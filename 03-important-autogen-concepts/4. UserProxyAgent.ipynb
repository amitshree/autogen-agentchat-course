{
 "cells": [
  {
   "cell_type": "markdown",
   "metadata": {},
   "source": [
    "## UserProxyAgent\n",
    "\n",
    "The `UserProxyAgent` is an agent designed to simulate a human user within a chat system. It achieves this by utilizing a custom input function.\n",
    "\n",
    "**Key Features:**\n",
    "\n",
    "* **Human User Simulation:** It acts as a proxy for a human user, allowing for interactive conversations.\n",
    "* **Custom Input Function:** You provide a function that handles user input, enabling flexible interaction scenarios.\n",
    "* **Team Blocking:** When a `UserProxyAgent` is used, the running team enters a temporary blocked state, awaiting user input.\n",
    "\n",
    "**Important Considerations:**\n",
    "\n",
    "* **Timeouts:** Implementing timeouts for the user input function is crucial. This prevents the team from being indefinitely blocked if the user fails to respond.\n",
    "* **CancellationToken:** Utilize a `CancellationToken` to cancel the input function if the user does not respond within the designated timeout.\n",
    "* **Exception Handling:** The input function should include robust exception handling. In case of errors, it should return a default response to maintain system stability."
   ]
  },
  {
   "cell_type": "code",
   "execution_count": 2,
   "metadata": {},
   "outputs": [],
   "source": [
    "import asyncio\n",
    "from autogen_core import CancellationToken\n",
    "from autogen_agentchat.agents import UserProxyAgent\n",
    "from autogen_agentchat.messages import TextMessage\n",
    "\n",
    "\n",
    "async def simple_user_agent():\n",
    "    agent = UserProxyAgent(\"user_proxy\")\n",
    "    response = await asyncio.create_task(\n",
    "        agent.on_messages(\n",
    "            [TextMessage(content=\"What is your name? \", source=\"user\")],\n",
    "            cancellation_token=CancellationToken(),\n",
    "        )\n",
    "    )\n",
    "    print(f\"Your name is {response.chat_message.content}\")"
   ]
  },
  {
   "cell_type": "code",
   "execution_count": 3,
   "metadata": {},
   "outputs": [
    {
     "name": "stdout",
     "output_type": "stream",
     "text": [
      "Your name is amit\n"
     ]
    }
   ],
   "source": [
    "await simple_user_agent()"
   ]
  },
  {
   "cell_type": "markdown",
   "metadata": {},
   "source": [
    "### Defining and using a customer input function"
   ]
  },
  {
   "cell_type": "code",
   "execution_count": 8,
   "metadata": {},
   "outputs": [],
   "source": [
    "def burj_khalifa_height(prompt: str) -> str:\n",
    "        return \"The height of the Burj Khalifa is 2,722 ft\""
   ]
  },
  {
   "cell_type": "code",
   "execution_count": 10,
   "metadata": {},
   "outputs": [
    {
     "name": "stdout",
     "output_type": "stream",
     "text": [
      "The height of the Burj Khalifa is 2,722 ft\n"
     ]
    }
   ],
   "source": [
    "\n",
    "agent = UserProxyAgent(name=\"test_user\", input_func=burj_khalifa_height)\n",
    "messages = [TextMessage(content=\"What is the height of Burj Khalifa?\", source=\"assistant\")]\n",
    "\n",
    "response = await agent.on_messages(messages, CancellationToken())\n",
    "\n",
    "print(response.chat_message.content)"
   ]
  }
 ],
 "metadata": {
  "kernelspec": {
   "display_name": ".venv",
   "language": "python",
   "name": "python3"
  },
  "language_info": {
   "codemirror_mode": {
    "name": "ipython",
    "version": 3
   },
   "file_extension": ".py",
   "mimetype": "text/x-python",
   "name": "python",
   "nbconvert_exporter": "python",
   "pygments_lexer": "ipython3",
   "version": "3.12.4"
  }
 },
 "nbformat": 4,
 "nbformat_minor": 2
}
