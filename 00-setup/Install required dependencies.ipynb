{
 "cells": [
  {
   "cell_type": "markdown",
   "metadata": {},
   "source": [
    "## 1. Install Python\n",
    "\n",
    "Install python 3.12+ depending on your operating system\n",
    "\n",
    "https://www.python.org/downloads/"
   ]
  },
  {
   "cell_type": "markdown",
   "metadata": {},
   "source": [
    "## 2. Install Visual Studio Code\n",
    "\n",
    "#### Install vs code from below url\n",
    "\n",
    "https://code.visualstudio.com/download\n",
    "\n",
    "#### Install extensions in vscode\n",
    "- Python\n",
    "- Pylance\n",
    "- Jupyter"
   ]
  },
  {
   "cell_type": "markdown",
   "metadata": {},
   "source": [
    "## 3. Set up your environment:\n",
    "\n",
    "```bash\n",
    "# Clone the repository\n",
    "git clone https://github.com/amitshree/autogen-agentchat-course.git autogen-course\n",
    "cd autogen-course\n",
    "\n",
    "# Create a virtual environment\n",
    "python -m venv .venv\n",
    "\n",
    "# Activate virtual environment\n",
    "source .venv/bin/activate  \n",
    "# On Windows use `.venv\\Scripts\\activate`\n",
    "\n",
    "# Install dependencies\n",
    "pip install -r requirements.txt\n",
    "\n",
    "# To create your .env file run the below command in your terminal:\n",
    "cp .env.example .env\n",
    "```"
   ]
  }
 ],
 "metadata": {
  "language_info": {
   "name": "python"
  }
 },
 "nbformat": 4,
 "nbformat_minor": 2
}
