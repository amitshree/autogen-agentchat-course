{
 "cells": [
  {
   "cell_type": "markdown",
   "metadata": {},
   "source": [
    "# 🛍️ Multi-Agent AI Chatbot for Customer Support  \n",
    "\n",
    "## 🚀 Overview  \n",
    "This project is a **multi-agent AI chatbot** built using **Streamlit** and **Autogen's SelectorGroupChat**. It enables seamless customer support for an **e-commerce platform**, handling:  \n",
    "✅ **Order placement** (cart, checkout)  \n",
    "✅ **Order inquiries** (status, tracking)  \n",
    "✅ **Product inquiries** (availability, pricing)  \n",
    "✅ **Complaint registration** (returns, refunds)  \n",
    "\n",
    "\n",
    "## 🏗️ Architecture  \n",
    "The chatbot uses **multiple AI agents**, each specializing in different tasks:  \n",
    "\n",
    "### **Agents**  \n",
    "1. **OrderInquiryAgent** → Fetches order status & tracking details.  \n",
    "2. **ProductInquiryAgent** → Answers product availability & pricing questions.  \n",
    "3. **ComplaintResolutionAgent** → Handles refunds, returns, and complaint registration.  \n",
    "4. **OrderPlacementAgent** → Helps users place new orders.  \n",
    "5. **ChatOrchestrator** → Decides which agent should respond.  \n",
    "\n",
    "### **Technologies Used**  \n",
    "- **Streamlit** → Frontend UI for customer chat.  \n",
    "- **Autogen SelectorGroupChat** → Multi-agent framework for seamless collaboration.  \n",
    "- **OpenAI Function Calling** → Fetches real-time order/product details via API.  \n",
    "- **E-commerce API (Mock)** → Simulates interaction with a store’s backend.  \n",
    "\n",
    "## 🎯 Features  \n",
    "- **Conversational AI**: Understands customer queries naturally.  \n",
    "- **Multi-Agent Collaboration**: Specialized agents work together efficiently.  \n",
    "- **Live API Calls**: Fetches real-time data (e.g., order status, product availability).  \n",
    "- **Streamlit UI**: Simple chat-based interface.  \n"
   ]
  },
  {
   "cell_type": "markdown",
   "metadata": {},
   "source": [
    "# 🔥 Start the Backend (FastAPI Server)\n",
    "Run the following command to start the FastAPI server:\n",
    "\n",
    "`bash uvicorn team:app --reload`\n",
    "\n",
    "This will start the backend at http://127.0.0.1:8000/\n",
    "\n",
    "The chatbot will use this API to fetch order details, product information, and process orders.\n"
   ]
  },
  {
   "cell_type": "markdown",
   "metadata": {},
   "source": [
    "# 💬 Start the Frontend (Streamlit Chatbot)\n",
    "\n",
    "`streamlit run app.py`\n",
    "\n",
    "This will launch the chatbot UI in your web browser."
   ]
  }
 ],
 "metadata": {
  "language_info": {
   "name": "python"
  }
 },
 "nbformat": 4,
 "nbformat_minor": 2
}
