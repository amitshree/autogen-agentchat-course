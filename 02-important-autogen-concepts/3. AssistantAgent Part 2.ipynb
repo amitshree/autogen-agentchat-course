{
 "cells": [
  {
   "cell_type": "markdown",
   "metadata": {},
   "source": [
    "1. A function can be used as tool directly with AssistentAgent by using it like `tools=[func_name]`\n",
    "2. A tool is mainly defined by importing `FunctionTool` class from `autogen_core.tools` module."
   ]
  },
  {
   "cell_type": "code",
   "execution_count": null,
   "metadata": {},
   "outputs": [],
   "source": [
    "# import required libraries\n",
    "from autogen_agentchat.agents import AssistantAgent\n",
    "from autogen_agentchat.messages import TextMessage\n",
    "from autogen_core import CancellationToken\n",
    "from autogen_ext.models.openai import OpenAIChatCompletionClient\n",
    "from autogen_core.tools import FunctionTool\n",
    "import datetime\n",
    "\n",
    "# Create a function which will be used as a tool\n",
    "async def get_current_datetime() -> str:\n",
    "    \"\"\"Gets the current date and time.\"\"\"\n",
    "    now = datetime.datetime.now()\n",
    "    return now.strftime(\"%Y-%m-%d %H:%M:%S\")\n",
    "\n",
    "model_client = OpenAIChatCompletionClient(\n",
    "    model=\"gpt-4o-mini\"\n",
    ")"
   ]
  },
  {
   "cell_type": "code",
   "execution_count": null,
   "metadata": {},
   "outputs": [],
   "source": [
    "# Function can be used as tool like below by directly specifying the function name\n",
    "agent = AssistantAgent(\n",
    "    name=\"assistant\",\n",
    "    model_client=model_client,\n",
    "    tools=[get_current_datetime],\n",
    "    system_message=\"Use tools to solve tasks.\",\n",
    ")\n",
    "\n",
    "# Or function can be used with tool with the help of FunctionTool\n",
    "# This step happens automatically inside the AssistantAgent if the tool is a Python function.\n",
    "get_datetime_tool = FunctionTool(get_current_datetime, description=\"Gets the current date and time\")\n",
    "\n",
    "agent = AssistantAgent(\n",
    "    name=\"assistant\",\n",
    "    model_client=model_client,\n",
    "    tools=[get_datetime_tool],\n",
    "    system_message=\"Use tools to solve tasks.\",\n",
    ")"
   ]
  },
  {
   "cell_type": "markdown",
   "metadata": {},
   "source": [
    "**`reflect_on_tool_use`** : `bool`, optional\n",
    "\n",
    "* If `True`, the agent will perform an additional model inference. This inference uses the tool call and its result to generate a final response.\n",
    "* If `False`, the result of the tool call will be returned directly as the response.\n",
    "* Defaults to `False`."
   ]
  },
  {
   "cell_type": "code",
   "execution_count": null,
   "metadata": {},
   "outputs": [],
   "source": [
    "agent = AssistantAgent(\n",
    "    name=\"assistant\",\n",
    "    model_client=model_client,\n",
    "    tools=[get_datetime_tool],\n",
    "    system_message=\"Use tools to solve tasks.\",\n",
    "    reflect_on_tool_use=False\n",
    ")\n",
    "response = await agent.on_messages(\n",
    "    messages=[TextMessage(content=\"What is the current date and time?\", source=\"user\")],\n",
    "    cancellation_token=CancellationToken(),\n",
    ")\n",
    "print(\"Final Response:\", response.chat_message.content)"
   ]
  },
  {
   "cell_type": "code",
   "execution_count": null,
   "metadata": {},
   "outputs": [],
   "source": [
    "agent = AssistantAgent(\n",
    "    name=\"assistant\",\n",
    "    model_client=model_client,\n",
    "    tools=[get_datetime_tool],\n",
    "    system_message=\"Use tools to solve tasks.\",\n",
    "    reflect_on_tool_use=True\n",
    ")\n",
    "response = await agent.on_messages(\n",
    "    messages=[TextMessage(content=\"What is the current date and time?\", source=\"user\")],\n",
    "    cancellation_token=CancellationToken(),\n",
    ")\n",
    "print(\"Final Response:\", response.chat_message.content)"
   ]
  },
  {
   "cell_type": "markdown",
   "metadata": {},
   "source": [
    "**Important Note about Tool calling and System message:**\n",
    "\n",
    "The `o1-preview` and `o1-mini` models have the following limitations:\n",
    "\n",
    "* **System Message:** They do not support system messages. Therefore, the `system_message` parameter must be set to `None`.\n",
    "* **Function Calling:** They do not support function calling. Consequently, the `tools` and `handoffs` parameters should not be set."
   ]
  }
 ],
 "metadata": {
  "kernelspec": {
   "display_name": ".venv",
   "language": "python",
   "name": "python3"
  },
  "language_info": {
   "codemirror_mode": {
    "name": "ipython",
    "version": 3
   },
   "file_extension": ".py",
   "mimetype": "text/x-python",
   "name": "python",
   "nbconvert_exporter": "python",
   "pygments_lexer": "ipython3",
   "version": "3.12.4"
  }
 },
 "nbformat": 4,
 "nbformat_minor": 2
}
