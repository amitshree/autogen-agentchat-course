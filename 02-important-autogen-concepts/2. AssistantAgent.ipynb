{
 "cells": [
  {
   "cell_type": "markdown",
   "metadata": {},
   "source": [
    "# AssistantAgent\n",
    "\n",
    "The `AssistantAgent` in AutoGen is a powerful agent for building multi-agent applications. It leverages a language model and can utilize various tools to accomplish tasks. "
   ]
  },
  {
   "cell_type": "markdown",
   "metadata": {},
   "source": [
    "### Code example\n",
    "Here's an example demonstrating how to use `AssistantAgent` with a tool to get the current date and time:"
   ]
  },
  {
   "cell_type": "code",
   "execution_count": null,
   "metadata": {},
   "outputs": [],
   "source": [
    "# import required libraries\n",
    "from autogen_agentchat.agents import AssistantAgent\n",
    "from autogen_agentchat.messages import TextMessage\n",
    "from autogen_core import CancellationToken\n",
    "from autogen_ext.models.openai import OpenAIChatCompletionClient\n",
    "import datetime"
   ]
  },
  {
   "cell_type": "code",
   "execution_count": null,
   "metadata": {},
   "outputs": [],
   "source": [
    "# Define a tool to get the current date and time\n",
    "async def get_current_datetime() -> str:\n",
    "    \"\"\"Gets the current date and time.\"\"\"\n",
    "    \n",
    "    now = datetime.datetime.now()\n",
    "    return now.strftime(\"%Y-%m-%d %H:%M:%S\")"
   ]
  },
  {
   "cell_type": "code",
   "execution_count": null,
   "metadata": {},
   "outputs": [],
   "source": [
    "\n",
    "# Create an AssistantAgent\n",
    "model_client = OpenAIChatCompletionClient(\n",
    "    model=\"gpt-4o-mini\"\n",
    ")\n",
    "agent = AssistantAgent(\n",
    "    name=\"assistant\",\n",
    "    model_client=model_client,\n",
    "    tools=[get_current_datetime],\n",
    "    system_message=\"Use tools to solve tasks.\",\n",
    ")"
   ]
  },
  {
   "cell_type": "code",
   "execution_count": null,
   "metadata": {},
   "outputs": [],
   "source": [
    "\n",
    "response = await agent.on_messages(\n",
    "    messages=[TextMessage(content=\"What is the current date and time?\", source=\"user\")],\n",
    "    cancellation_token=CancellationToken(),\n",
    ")\n",
    "print(\"Response:\", response)\n",
    "print(\"Final Response:\", response.chat_message)\n",
    "print(\"Inner Messages:\", response.inner_messages)"
   ]
  },
  {
   "cell_type": "markdown",
   "metadata": {},
   "source": [
    "## Understanding the `on_messages()` Response\n",
    "\n",
    "The `on_messages()` function serves as the primary communication channel with the agent. It returns a `Response` object, which acts as a container holding valuable information about the agent's processing.\n",
    "\n",
    "Here's a breakdown of the key components within the `Response` object:\n",
    "\n",
    "* **`chat_message`:**\n",
    "    * This attribute stores the agent's final, conclusive response. It represents the ultimate answer or output the agent has generated based on the input message and its internal processing.\n",
    "    * Think of it as the agent's final statement or conclusion.\n",
    "\n",
    "* **`inner_messages`:**\n",
    "    * This attribute contains a list of messages that document the agent's internal reasoning process.\n",
    "    * It effectively reveals the agent's \"thought process,\" showing the steps, considerations, and tool usages that led to the final `chat_message`.\n",
    "    * By examining `inner_messages`, you can gain insights into how the agent arrived at its conclusion, allowing for debugging, analysis, and a deeper understanding of its behavior."
   ]
  },
  {
   "cell_type": "markdown",
   "metadata": {},
   "source": [
    "## Important Note: `on_messages()` and Agent State\n",
    "\n",
    "**Understanding State Updates:**\n",
    "\n",
    "It's crucial to understand that the `on_messages()` method modifies the agent's internal state. Specifically, each call to `on_messages()` appends the provided messages to the agent's message history.\n",
    "\n",
    "**Implications:**\n",
    "\n",
    "* **Avoid Redundant Calls:**\n",
    "    * Repeatedly calling `on_messages()` with the same messages or the entire history will result in duplicate entries in the agent's history. This can lead to unexpected behavior and potentially degrade performance.\n",
    "* **Use New Messages:**\n",
    "    * To ensure proper functioning and accurate agent responses, always call `on_messages()` with *new* messages that represent the next step in the interaction. Do not send comple user-assistent interaction.\n",
    "* **Maintaining Context:**\n",
    "    * The agent uses its message history to maintain context during conversations. Therefore, avoid adding uneeded duplicate messages.\n",
    "\n",
    "**In essence, treat `on_messages()` as a method that advances the agent's conversation and knowledge. Do not use it to replay or reiterate past interactions.**"
   ]
  },
  {
   "cell_type": "markdown",
   "metadata": {},
   "source": [
    "## The `run()` Method: A Convenience Wrapper\n",
    "\n",
    "In addition to `on_messages()`, you can utilize the `run()` method for interacting with the agent.\n",
    "\n",
    "**Key Characteristics:**\n",
    "\n",
    "* **Convenience Method:**\n",
    "    * The `run()` method acts as a simplified, high-level interface that internally calls `on_messages()`. This provides a more streamlined way to execute agent interactions.\n",
    "* **Teams Interface Compatibility:**\n",
    "    * The `run()` method is designed to follow the same interface as the `Teams` object. This consistency simplifies integration and promotes a unified approach to agent interactions.\n",
    "* **`TaskResult` Object:**\n",
    "    * Instead of returning a `Response` object like `on_messages()`, `run()` returns a `TaskResult` object.\n",
    "    * The `TaskResult` object provides a structured representation of the agent's execution, encapsulating the outcome and relevant details of the task.\n",
    "    * This task result object can be used to more easily access the results of an agents actions."
   ]
  },
  {
   "cell_type": "code",
   "execution_count": null,
   "metadata": {},
   "outputs": [],
   "source": [
    "# Using run()\n",
    "task_result = await agent.run(\n",
    "    task=[TextMessage(content=\"What is the current date and time?\", source=\"user\")],\n",
    "    cancellation_token=CancellationToken(),\n",
    ")\n",
    "print(\"Task Result:\", task_result)\n",
    "print(\"Final Response:\", task_result.messages[-1].content)"
   ]
  }
 ],
 "metadata": {
  "kernelspec": {
   "display_name": ".venv",
   "language": "python",
   "name": "python3"
  },
  "language_info": {
   "codemirror_mode": {
    "name": "ipython",
    "version": 3
   },
   "file_extension": ".py",
   "mimetype": "text/x-python",
   "name": "python",
   "nbconvert_exporter": "python",
   "pygments_lexer": "ipython3",
   "version": "3.12.4"
  }
 },
 "nbformat": 4,
 "nbformat_minor": 2
}
