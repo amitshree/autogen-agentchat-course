{
 "cells": [
  {
   "cell_type": "markdown",
   "metadata": {},
   "source": [
    "# Installing VS Code and Setting Up for Python and Jupyter Development\n",
    "\n",
    "This guide will walk you through installing Visual Studio Code (VS Code) and configuring it for Python and Jupyter Notebook development.\n",
    "\n",
    "## 1. Installing VS Code\n",
    "\n",
    "* **Windows:**\n",
    "    1. Visit the official VS Code website: [https://code.visualstudio.com/Download](https://code.visualstudio.com/Download)\n",
    "    2. Download the Windows installer (either User Installer or System Installer, System Installer is generally recommended).\n",
    "    3. Run the installer and follow the on-screen instructions.  The defaults are usually fine.\n",
    "    4. During installation, make sure to check the box that says \"Add to PATH (available after restart)\" if you want to be able to open VS Code from the command line.\n",
    "\n",
    "* **macOS:**\n",
    "    1. Visit the official VS Code website: [https://code.visualstudio.com/Download](https://code.visualstudio.com/Download)\n",
    "    2. Download the macOS `.dmg` file.\n",
    "    3. Open the `.dmg` file and drag the \"Visual Studio Code\" application to your Applications folder.\n",
    "\n",
    "* **Linux:**\n",
    "    1. Visit the official VS Code website: [https://code.visualstudio.com/Download](https://code.visualstudio.com/Download)\n",
    "    2. Download the appropriate `.deb` (Debian/Ubuntu), `.rpm` (Red Hat/CentOS/Fedora), `.tar.gz`, or `.snap` package for your distribution.\n",
    "    3. Follow the instructions for your distribution to install VS Code.  For `.deb` and `.rpm` packages, you can usually use your distribution's package manager (e.g., `apt`, `dnf`, `yum`). For `.tar.gz`, unpack and follow the instructions in the archive. For `.snap`, you can install it using the command `snap install code --classic`.\n",
    "\n",
    "## 2. Installing the Python Extension\n",
    "\n",
    "The Python extension in VS Code empowers developers with rich features like IntelliSense, debugging, code navigation, linting, and formatting, significantly boosting productivity and code quality.\n",
    "\n",
    "1. **Open VS Code:** Launch Visual Studio Code.\n",
    "\n",
    "2. **Open the Extensions View:** Click on the Extensions icon in the Activity Bar on the left side (it looks like four squares).  Alternatively, press `Ctrl+Shift+X` (Windows/Linux) or `Cmd+Shift+X` (macOS).\n",
    "\n",
    "3. **Search for \"Python\":** Type \"Python\" in the search box.\n",
    "\n",
    "4. **Install the Microsoft Python Extension:** Look for the extension published by Microsoft (it should be the top result and have a green icon with the Python logo). Click the \"Install\" button. \n",
    "\n",
    "## 3. Installing the Jupyter Extension\n",
    "\n",
    "This extension allows you to work with Jupyter Notebooks directly within VS Code.\n",
    "\n",
    "1. **Open the Extensions View:** If it's not already open, open the Extensions view (as described in the previous step).\n",
    "\n",
    "2. **Search for \"Jupyter\":** Type \"Jupyter\" in the search box.\n",
    "\n",
    "3. **Install the Jupyter Extension:** Look for the extension published by Microsoft (it should be a top result). Click the \"Install\" button.  "
   ]
  }
 ],
 "metadata": {
  "language_info": {
   "name": "python"
  }
 },
 "nbformat": 4,
 "nbformat_minor": 2
}
