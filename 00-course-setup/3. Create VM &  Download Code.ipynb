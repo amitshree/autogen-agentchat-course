{
 "cells": [
  {
   "cell_type": "markdown",
   "metadata": {},
   "source": [
    "## Download Code and Set up your environment\n",
    "\n",
    "This section outlines the steps to set up your development environment for the `autogen-agentchat-course` project.\n",
    "\n",
    "```bash\n",
    "git clone https://github.com/amitshree/autogen-agentchat-course.git autogen-course\n",
    "\n",
    "cd autogen-course\n",
    "\n",
    "# Create a virtual environment\n",
    "python -m venv .venv\n",
    "\n",
    "# Activate virtual environment\n",
    "source .venv/bin/activate  # Linux/macOS\n",
    ".venv\\Scripts\\activate     # Windows\n",
    "\n",
    "# Install dependencies\n",
    "pip install -r requirements.txt\n",
    "\n",
    "# Create your .env file\n",
    "cp .env.example .env"
   ]
  }
 ],
 "metadata": {
  "language_info": {
   "name": "python"
  }
 },
 "nbformat": 4,
 "nbformat_minor": 2
}
