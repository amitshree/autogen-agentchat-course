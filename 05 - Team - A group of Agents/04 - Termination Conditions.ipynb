{
 "cells": [
  {
   "cell_type": "markdown",
   "metadata": {},
   "source": [
    "# Termination Conditions"
   ]
  },
  {
   "cell_type": "markdown",
   "metadata": {},
   "source": [
    "### Question: What is a termination condition?\n",
    "Answer: When agents are running in a team, a Termination Condition defines the criteria for halting a conversation or process. \n",
    "\n",
    "It is crucial for ensuring that runs are terminated at the right time, rather than running endlessly."
   ]
  },
  {
   "cell_type": "code",
   "execution_count": 1,
   "metadata": {},
   "outputs": [],
   "source": [
    "from autogen_agentchat.agents import AssistantAgent\n",
    "from autogen_agentchat.conditions import MaxMessageTermination, TextMentionTermination\n",
    "from autogen_agentchat.teams import RoundRobinGroupChat\n",
    "from autogen_agentchat.ui import Console\n",
    "from autogen_ext.models.openai import OpenAIChatCompletionClient\n",
    "\n",
    "model_client = OpenAIChatCompletionClient(\n",
    "    model=\"gpt-4o\",\n",
    "    temperature=1,\n",
    ")\n",
    "\n",
    "# Create the primary agent.\n",
    "primary_agent = AssistantAgent(\n",
    "    \"primary\",\n",
    "    model_client=model_client,\n",
    "    system_message=\"You are a helpful AI assistant.\",\n",
    ")\n",
    "\n",
    "# Create the critic agent.\n",
    "critic_agent = AssistantAgent(\n",
    "    \"critic\",\n",
    "    model_client=model_client,\n",
    "    system_message=\"Provide constructive feedback for every message. Respond with 'APPROVE' to when your feedbacks are addressed.\",\n",
    ")"
   ]
  },
  {
   "cell_type": "code",
   "execution_count": 2,
   "metadata": {},
   "outputs": [
    {
     "name": "stdout",
     "output_type": "stream",
     "text": [
      "---------- user ----------\n",
      "Describe a futuristic city in 50 words\n",
      "---------- primary ----------\n",
      "In a futuristic city, soaring towers covered in vertical gardens merge with the sky. Autonomous vehicles glide silently along transparent streets, while drones buzz above. Solar panels and wind turbines power eco-friendly habitats. Holographic interfaces connect inhabitants, blending reality with augmented layers. Bioluminescent flora lights pathways beneath a shimmering dome.\n",
      "---------- critic ----------\n",
      "This description effectively paints a vivid picture of a futuristic city. However, one area for improvement is adding a sense of community or human activity to breathe life into this vision. Consider mentioning how people interact within this environment or how these advanced technologies enhance their daily lives. \n",
      "\n",
      "Overall, it's a captivating depiction, and with minor enhancements, it could become even more engaging.\n"
     ]
    },
    {
     "data": {
      "text/plain": [
       "TaskResult(messages=[TextMessage(source='user', models_usage=None, content='Describe a futuristic city in 50 words', type='TextMessage'), TextMessage(source='primary', models_usage=RequestUsage(prompt_tokens=27, completion_tokens=66), content='In a futuristic city, soaring towers covered in vertical gardens merge with the sky. Autonomous vehicles glide silently along transparent streets, while drones buzz above. Solar panels and wind turbines power eco-friendly habitats. Holographic interfaces connect inhabitants, blending reality with augmented layers. Bioluminescent flora lights pathways beneath a shimmering dome.', type='TextMessage'), TextMessage(source='critic', models_usage=RequestUsage(prompt_tokens=113, completion_tokens=73), content=\"This description effectively paints a vivid picture of a futuristic city. However, one area for improvement is adding a sense of community or human activity to breathe life into this vision. Consider mentioning how people interact within this environment or how these advanced technologies enhance their daily lives. \\n\\nOverall, it's a captivating depiction, and with minor enhancements, it could become even more engaging.\", type='TextMessage')], stop_reason='Maximum number of messages 3 reached, current message count: 3')"
      ]
     },
     "execution_count": 2,
     "metadata": {},
     "output_type": "execute_result"
    }
   ],
   "source": [
    "max_msg_termination = MaxMessageTermination(max_messages=3)\n",
    "round_robin_team = RoundRobinGroupChat([primary_agent, critic_agent], termination_condition=max_msg_termination)\n",
    "\n",
    "await Console(round_robin_team.run_stream(task=\"Describe a futuristic city in 50 words\"))"
   ]
  },
  {
   "cell_type": "markdown",
   "metadata": {},
   "source": [
    "# Combining Termination Conditions in Autogen AgentChat\n",
    "\n",
    "In Autogen AgentChat, termination conditions can be combined using the logical `AND (&)` and `OR (|)` operators. This allows for more complex termination logic to control when a conversation should stop.\n",
    "\n",
    "## Example: Combining Termination Conditions  \n",
    "\n",
    "In the following example, we create a team where the conversation stops if **either** of the following conditions is met:  \n",
    "1. **A maximum of 10 messages** have been exchanged.  \n",
    "2. **The critic agent approves a message** by responding with `\"APPROVE\"`.\n",
    "\n",
    "By using the `|` (OR) operator, the conversation will terminate as soon as **one of these conditions is satisfied**.\n"
   ]
  },
  {
   "cell_type": "code",
   "execution_count": 4,
   "metadata": {},
   "outputs": [
    {
     "name": "stdout",
     "output_type": "stream",
     "text": [
      "---------- user ----------\n",
      "Provide a summary of the latest advancements in AI.\n"
     ]
    },
    {
     "name": "stdout",
     "output_type": "stream",
     "text": [
      "---------- primary ----------\n",
      "Recent advancements in AI have focused on several key areas:\n",
      "\n",
      "1. **Large Language Models (LLMs):** Models like OpenAI's GPT-4 and others have advanced in generating text that is increasingly coherent and context-aware, with applications ranging from content creation to conversational agents.\n",
      "\n",
      "2. **Image and Video Generation:** AI systems are now capable of creating highly realistic images and videos, evident in advancements like DALL-E, which can generate images from textual descriptions.\n",
      "\n",
      "3. **Multimodal AI:** Systems that integrate and process multiple types of data, such as text, image, and sound, are improving, allowing for more comprehensive understanding and interaction with complex data sources.\n",
      "\n",
      "4. **Reinforcement Learning:** Enhanced algorithms have enabled AI to master complex environments with better strategies, evident in applications from robotics to game playing.\n",
      "\n",
      "5. **AI in Healthcare:** AI continues to make strides in diagnostic tools, predictive analytics, and personalized medicine, contributing to more efficient and accurate treatment plans.\n",
      "\n",
      "6. **Edge AI:** AI is increasingly being deployed on edge devices, facilitating real-time data processing and reducing the need for continuous cloud connectivity, which can enhance privacy and efficiency.\n",
      "\n",
      "7. **Ethical AI and Interpretability:** With growing awareness of AI's societal impact, there is a focus on developing transparent, fair, and interpretable AI systems to ensure ethical use.\n",
      "\n",
      "These advancements are expanding AI's capabilities, leading to transformative applications across various industries.\n",
      "---------- critic ----------\n",
      "This summary effectively covers recent advancements in AI, focusing on diverse areas such as large language models, image and video generation, and ethical AI. It is well-organized, highlighting both technological improvements and practical applications. One area for enhancement could be to include specific examples or real-world applications for each advancement to provide a clearer picture of their impact. Nevertheless, this is a well-rounded summary. \n",
      "\n",
      "APPROVE\n"
     ]
    },
    {
     "data": {
      "text/plain": [
       "TaskResult(messages=[TextMessage(source='user', models_usage=None, content='Provide a summary of the latest advancements in AI.', type='TextMessage'), TextMessage(source='primary', models_usage=RequestUsage(prompt_tokens=429, completion_tokens=288), content=\"Recent advancements in AI have focused on several key areas:\\n\\n1. **Large Language Models (LLMs):** Models like OpenAI's GPT-4 and others have advanced in generating text that is increasingly coherent and context-aware, with applications ranging from content creation to conversational agents.\\n\\n2. **Image and Video Generation:** AI systems are now capable of creating highly realistic images and videos, evident in advancements like DALL-E, which can generate images from textual descriptions.\\n\\n3. **Multimodal AI:** Systems that integrate and process multiple types of data, such as text, image, and sound, are improving, allowing for more comprehensive understanding and interaction with complex data sources.\\n\\n4. **Reinforcement Learning:** Enhanced algorithms have enabled AI to master complex environments with better strategies, evident in applications from robotics to game playing.\\n\\n5. **AI in Healthcare:** AI continues to make strides in diagnostic tools, predictive analytics, and personalized medicine, contributing to more efficient and accurate treatment plans.\\n\\n6. **Edge AI:** AI is increasingly being deployed on edge devices, facilitating real-time data processing and reducing the need for continuous cloud connectivity, which can enhance privacy and efficiency.\\n\\n7. **Ethical AI and Interpretability:** With growing awareness of AI's societal impact, there is a focus on developing transparent, fair, and interpretable AI systems to ensure ethical use.\\n\\nThese advancements are expanding AI's capabilities, leading to transformative applications across various industries.\", type='TextMessage'), TextMessage(source='critic', models_usage=RequestUsage(prompt_tokens=901, completion_tokens=82), content='This summary effectively covers recent advancements in AI, focusing on diverse areas such as large language models, image and video generation, and ethical AI. It is well-organized, highlighting both technological improvements and practical applications. One area for enhancement could be to include specific examples or real-world applications for each advancement to provide a clearer picture of their impact. Nevertheless, this is a well-rounded summary. \\n\\nAPPROVE', type='TextMessage')], stop_reason=\"Text 'APPROVE' mentioned\")"
      ]
     },
     "execution_count": 4,
     "metadata": {},
     "output_type": "execute_result"
    }
   ],
   "source": [
    "\n",
    "# Define termination conditions\n",
    "max_msg_termination = MaxMessageTermination(max_messages=10)\n",
    "critic_approval_termination = TextMentionTermination(text=\"APPROVE\")\n",
    "\n",
    "# Combine conditions using OR (|)\n",
    "combined_termination = max_msg_termination | critic_approval_termination\n",
    "\n",
    "# Create a round-robin team with the combined termination condition\n",
    "round_robin_team = RoundRobinGroupChat([primary_agent, critic_agent], termination_condition=combined_termination)\n",
    "\n",
    "# Execute the conversation task\n",
    "await Console(round_robin_team.run_stream(task=\"Provide a summary of the latest advancements in AI.\"))\n"
   ]
  },
  {
   "cell_type": "markdown",
   "metadata": {},
   "source": [
    "## Using AND (`&`) for Combined Termination Conditions in Autogen AgentChat  \n",
    "\n",
    "In addition to using the OR (`|`) operator, termination conditions can also be combined using the AND (`&`) operator. This ensures that the conversation will **only stop when all specified conditions are met**.\n",
    "\n",
    "It can be written like\n",
    "`combined_termination = max_msg_termination & text_termination`\n"
   ]
  },
  {
   "cell_type": "markdown",
   "metadata": {},
   "source": [
    "> You can also create custom termination conditions and details can be found here https://microsoft.github.io/autogen/stable/user-guide/agentchat-user-guide/tutorial/termination.html"
   ]
  }
 ],
 "metadata": {
  "kernelspec": {
   "display_name": ".venv",
   "language": "python",
   "name": "python3"
  },
  "language_info": {
   "codemirror_mode": {
    "name": "ipython",
    "version": 3
   },
   "file_extension": ".py",
   "mimetype": "text/x-python",
   "name": "python",
   "nbconvert_exporter": "python",
   "pygments_lexer": "ipython3",
   "version": "3.12.4"
  }
 },
 "nbformat": 4,
 "nbformat_minor": 2
}
