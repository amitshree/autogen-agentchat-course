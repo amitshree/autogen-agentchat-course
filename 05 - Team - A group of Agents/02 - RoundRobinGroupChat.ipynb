{
 "cells": [
  {
   "cell_type": "markdown",
   "metadata": {},
   "source": [
    "# Creating a Team\n",
    "\n",
    "## RoundRobinGroupChat  \n",
    "\n",
    "**RoundRobinGroupChat** is a simple yet effective team configuration where all agents share the same context and take turns responding in a round-robin fashion. Each agent, during its turn, broadcasts its response to all other agents, ensuring that the entire team maintains a consistent context.  \n",
    "\n",
    "## Team Setup  \n",
    "\n",
    "We will begin by creating a team with:  \n",
    "- **Two AssistantAgent instances**  \n",
    "- A **TextMentionTermination** condition that stops the team when a specific word is detected in an agent’s response.\n"
   ]
  },
  {
   "cell_type": "code",
   "execution_count": 1,
   "metadata": {},
   "outputs": [],
   "source": [
    "from autogen_agentchat.agents import AssistantAgent\n",
    "from autogen_agentchat.conditions import TextMentionTermination\n",
    "from autogen_agentchat.teams import RoundRobinGroupChat\n",
    "from autogen_core import CancellationToken\n",
    "from autogen_agentchat.base import TaskResult\n",
    "from autogen_ext.models.openai import OpenAIChatCompletionClient\n",
    "\n",
    "# Create an OpenAI model client.\n",
    "model_client = OpenAIChatCompletionClient(\n",
    "    model=\"gpt-4o-mini\"\n",
    ")\n",
    "\n",
    "# Create the BlogPostDraftAgent\n",
    "blog_post_draft_agent = AssistantAgent(\n",
    "    \"BlogPostDraftAgent\",\n",
    "    model_client=model_client,\n",
    "    system_message=\"You are a blog post drafting agent. Your task is to generate an outline or initial draft of a blog post or article based on the topic provided. Make sure to include clear sections, headings, and a logical flow.\"\n",
    ")\n",
    "\n",
    "# Create the BlogPostEnhancementAgent\n",
    "blog_post_enhancement_agent = AssistantAgent(\n",
    "    \"BlogPostEnhancementAgent\",\n",
    "    model_client=model_client,\n",
    "    system_message=\"You are a blog post enhancement agent. Your task is to improve the draft provided by the drafting agent. Focus on improving readability, adding relevant examples, and optimizing for SEO. If you are satisfied with the final draft, respond with 'FINAL'.\"\n",
    ")\n",
    "\n",
    "# Define the termination condition that stops the task when 'FINAL' is mentioned\n",
    "text_termination = TextMentionTermination(\"FINAL\")\n",
    "\n",
    "# Create a team where the BlogPostDraftAgent and BlogPostEnhancementAgent interact.\n",
    "team = RoundRobinGroupChat(\n",
    "    [blog_post_draft_agent, blog_post_enhancement_agent],\n",
    "    termination_condition=text_termination\n",
    ")"
   ]
  },
  {
   "cell_type": "code",
   "execution_count": 2,
   "metadata": {},
   "outputs": [
    {
     "name": "stdout",
     "output_type": "stream",
     "text": [
      "source='user' models_usage=None content='Create a short blog post about the benefits of using AI in e-commerce.' type='TextMessage'\n",
      "source='BlogPostDraftAgent' models_usage=RequestUsage(prompt_tokens=71, completion_tokens=611) content=\"# Harnessing the Power of AI in E-Commerce: Unlocking New Benefits\\n\\nIn the rapidly evolving landscape of e-commerce, businesses are continuously seeking innovative ways to enhance customer experiences and streamline operations. One of the most transformative technologies making waves in this sector is Artificial Intelligence (AI). From personalized shopping experiences to improved inventory management, AI is revolutionizing how companies operate and interact with their customers. Here, we explore the key benefits of integrating AI into e-commerce.\\n\\n## 1. Personalized Shopping Experiences\\n\\nOne of the most significant advantages of AI in e-commerce is its ability to deliver personalized experiences for customers. By analyzing user data and behavior, AI algorithms can recommend products tailored to individual preferences. This not only enhances user satisfaction but also increases conversion rates and average order values. \\n\\n- **Recommendation Engines:** Platforms like Amazon utilize AI-driven recommendation systems that suggest items based on previous purchases and browsing history, creating a unique shopping journey for each user.\\n\\n## 2. Improved Customer Service\\n\\nAI-powered chatbots and virtual assistants are becoming increasingly prevalent in online retail. These tools provide instant support to customers 24/7, answering queries, providing product information, and even assisting with the checkout process.\\n\\n- **Efficiency and Cost-Effectiveness:** Incorporating AI chatbots reduces response times and can handle multiple inquiries simultaneously, leading to increased efficiency and reduced labor costs for businesses.\\n\\n## 3. Enhanced Inventory Management\\n\\nManaging inventory effectively is crucial for e-commerce businesses. AI can analyze sales data and market trends to forecast demand accurately, helping businesses maintain optimal stock levels and avoid overstock situations.\\n\\n- **Predictive Analytics:** With AI's ability to predict trends based on historical data, retailers can plan for seasonal changes and align their inventory accordingly, significantly minimizing waste and lost sales.\\n\\n## 4. Fraud Detection and Prevention\\n\\nAs online transactions increase, so does the risk of fraud. AI technologies can identify and assess fraudulent activities by analyzing transaction patterns and user behaviors in real time.\\n\\n- **Advanced Security:** Utilizing machine learning algorithms to detect anomalies helps e-commerce platforms implement robust security measures, protecting both businesses and consumers from fraudulent activities.\\n\\n## 5. Streamlined Operations\\n\\nAI can automate numerous back-end processes, such as order processing, payment handling, and customer segmentation. This allows businesses to focus on strategic initiatives while reducing human error and operational overhead.\\n\\n- **Efficiency Gains:** Automation through AI frees up resources, enabling teams to concentrate on enhancing product offerings and marketing strategies rather than getting bogged down in routine tasks.\\n\\n## Conclusion\\n\\nIntegrating AI into e-commerce is no longer a futuristic concept but a reality that many businesses are leveraging to stay competitive. By embracing this technology, e-commerce retailers can create personalized experiences, improve customer service, manage inventory effectively, enhance security, and streamline operations. As the e-commerce landscape continues to evolve, the adoption of AI will undoubtedly play a pivotal role in shaping its future. \\n\\nWhether you're a small business or a large enterprise, now is the time to explore the untapped potential of AI and revolutionize your e-commerce strategy.\" type='TextMessage'\n",
      "source='BlogPostEnhancementAgent' models_usage=RequestUsage(prompt_tokens=695, completion_tokens=759) content='# Harnessing the Power of AI in E-Commerce: Unlocking New Benefits\\n\\nIn the rapidly evolving world of e-commerce, businesses are continuously searching for innovative ways to enhance customer experiences and streamline operations. One of the most transformative technologies making waves in this sector is Artificial Intelligence (AI). From creating personalized shopping experiences to improving inventory management, AI is revolutionizing how companies operate and interact with their customers. In this blog post, we will explore the key benefits of integrating AI into e-commerce.\\n\\n## 1. Personalized Shopping Experiences\\n\\nOne of the standout advantages of AI in e-commerce is its ability to deliver tailored experiences for customers. By analyzing user data and behavior, AI algorithms can recommend products that align closely with individual preferences. This not only boosts customer satisfaction but also increases conversion rates and average order values. \\n\\n- **Recommendation Engines:** Leading platforms such as Amazon and Netflix utilize AI-driven recommendation systems. For example, after watching a movie like \"Inception,\" Netflix may suggest \"Interstellar\" or \"The Matrix,\" creating a unique browsing experience tailored to your tastes.\\n\\n## 2. Improved Customer Service\\n\\nAI-powered chatbots and virtual assistants are becoming commonplace in online retail. These tools provide instant support to customers around the clock, addressing queries, providing product information, and even assisting with the checkout process.\\n\\n- **Efficiency and Cost-Effectiveness:** Incorporating AI chatbots reduces response times and can manage multiple inquiries simultaneously. For instance, brands like Sephora and H&M use chatbots to guide users through their shopping journey, ensuring a seamless and engaging experience.\\n\\n## 3. Enhanced Inventory Management\\n\\nEffective inventory management is vital for e-commerce success. AI can analyze sales data and market trends to accurately forecast demand, helping businesses maintain optimal stock levels and avoid overstock situations.\\n\\n- **Predictive Analytics:** AI’s data-driven predictions enable retailers to plan for seasonal changes. For example, a clothing retailer can anticipate increased sales of winter coats as the cold season approaches, ensuring they have sufficient inventory without excess supply.\\n\\n## 4. Fraud Detection and Prevention\\n\\nAs online transactions surge, so does the risk of fraud. AI technologies can identify and assess fraudulent activities by analyzing transaction patterns and user behaviors in real time.\\n\\n- **Advanced Security:** Machine learning algorithms can detect anomalies, such as unusual purchasing patterns or location discrepancies, allowing e-commerce platforms to implement robust security measures. For instance, PayPal\\'s AI-driven fraud detection system helps safeguard millions of transactions daily, protecting both businesses and consumers.\\n\\n## 5. Streamlined Operations\\n\\nAI can automate numerous back-end processes, including order processing, payment handling, and customer segmentation. This allows businesses to focus on strategic initiatives while reducing human error and operational overhead.\\n\\n- **Efficiency Gains:** Automation through AI not only saves time but also reduces costs. Consider how Walmart uses AI to monitor supply chain logistics, ensuring products are replenished efficiently, thus enabling staff to focus on customer engagement and marketing efforts.\\n\\n## Conclusion\\n\\nIntegrating AI into e-commerce is not just a futuristic concept but a present reality that many businesses are leveraging to stay competitive. By embracing this technology, e-commerce retailers can create personalized experiences, improve customer service, manage inventory effectively, enhance security, and optimize operations. \\n\\nWhether you\\'re a small business or a large enterprise, now is the time to explore the untapped potential of AI and transform your e-commerce strategy for a brighter, more profitable future. As the e-commerce landscape continues to evolve, the adoption of AI will undoubtedly play a pivotal role in shaping its future and unlocking new opportunities for growth.\\n\\n---\\n\\nIn optimizing this blog for SEO, keywords like \"AI in e-commerce,\" \"personalized shopping,\" and \"fraud detection in e-commerce\" have been strategically placed throughout the post to improve visibility and search rankings. \\n\\nFINAL' type='TextMessage'\n",
      "Stop Reason: Text 'FINAL' mentioned\n"
     ]
    }
   ],
   "source": [
    "async for message in team.run_stream(task=\"Create a short blog post about the benefits of using AI in e-commerce.\"): \n",
    "    if isinstance(message, TaskResult):\n",
    "        print(\"Stop Reason:\", message.stop_reason)\n",
    "    else:\n",
    "        print(message)"
   ]
  }
 ],
 "metadata": {
  "kernelspec": {
   "display_name": ".venv",
   "language": "python",
   "name": "python3"
  },
  "language_info": {
   "codemirror_mode": {
    "name": "ipython",
    "version": 3
   },
   "file_extension": ".py",
   "mimetype": "text/x-python",
   "name": "python",
   "nbconvert_exporter": "python",
   "pygments_lexer": "ipython3",
   "version": "3.12.4"
  }
 },
 "nbformat": 4,
 "nbformat_minor": 2
}
