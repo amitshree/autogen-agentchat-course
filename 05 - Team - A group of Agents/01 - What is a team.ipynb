{
 "cells": [
  {
   "cell_type": "markdown",
   "metadata": {},
   "source": [
    "## When to Use a Team of AI Agents\n",
    "\n",
    "A team is a group of agents that work together to achieve a common goal.\n",
    "\n",
    "**When should you use a team?**\n",
    "\n",
    "Teams are best suited for:\n",
    "\n",
    "* **Complex tasks:** Tasks that require collaboration and diverse expertise.\n",
    "* **Tasks where a single agent proves inadequate:** If a single agent struggles to achieve the desired results, a team approach might be necessary.\n",
    "\n",
    "**Important Considerations:**\n",
    "\n",
    "* **Scaffolding:** Teams require more scaffolding and guidance compared to single agents.\n",
    "* **Start simple:** Begin with a single agent for simpler tasks.\n",
    "* **Optimization:** Ensure your single agent is optimized with appropriate tools and instructions before transitioning to a team.\n",
    "\n",
    "**In essence:**\n",
    "\n",
    "Use a single agent for straightforward tasks. Transition to a multi-agent team when the task's complexity demands collaboration and diverse skills, but be prepared for the increased complexity of managing a team."
   ]
  },
  {
   "cell_type": "markdown",
   "metadata": {},
   "source": [
    "## What is a termination condition?\n",
    "When agents are running in a team, a Termination Condition defines the criteria for halting a conversation or process. \n",
    "\n",
    "It is crucial for ensuring that runs are terminated at the right time, rather than running endlessly."
   ]
  },
  {
   "cell_type": "markdown",
   "metadata": {},
   "source": []
  }
 ],
 "metadata": {
  "language_info": {
   "name": "python"
  }
 },
 "nbformat": 4,
 "nbformat_minor": 2
}
