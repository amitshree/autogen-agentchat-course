{
 "cells": [
  {
   "cell_type": "markdown",
   "metadata": {},
   "source": [
    "# Termination Conditions"
   ]
  },
  {
   "cell_type": "markdown",
   "metadata": {},
   "source": [
    "### Question: What is a termination condition?\n",
    "Answer: When agents are running in a team, a Termination Condition defines the criteria for halting a conversation or process. \n",
    "\n",
    "It is crucial for ensuring that runs are terminated at the right time, rather than running endlessly."
   ]
  },
  {
   "cell_type": "code",
   "execution_count": null,
   "metadata": {},
   "outputs": [],
   "source": [
    "from autogen_agentchat.agents import AssistantAgent\n",
    "from autogen_agentchat.conditions import MaxMessageTermination, TextMentionTermination\n",
    "from autogen_agentchat.teams import RoundRobinGroupChat\n",
    "from autogen_agentchat.ui import Console\n",
    "from autogen_ext.models.openai import OpenAIChatCompletionClient\n",
    "\n",
    "model_client = OpenAIChatCompletionClient(\n",
    "    model=\"gpt-4o\",\n",
    "    temperature=1,\n",
    ")\n",
    "\n",
    "# Create the primary agent.\n",
    "primary_agent = AssistantAgent(\n",
    "    \"primary\",\n",
    "    model_client=model_client,\n",
    "    system_message=\"You are a helpful AI assistant.\",\n",
    ")\n",
    "\n",
    "# Create the critic agent.\n",
    "critic_agent = AssistantAgent(\n",
    "    \"critic\",\n",
    "    model_client=model_client,\n",
    "    system_message=\"Provide constructive feedback for every message. Respond with 'APPROVE' to when your feedbacks are addressed.\",\n",
    ")"
   ]
  },
  {
   "cell_type": "code",
   "execution_count": null,
   "metadata": {},
   "outputs": [],
   "source": [
    "max_msg_termination = MaxMessageTermination(max_messages=3)\n",
    "round_robin_team = RoundRobinGroupChat([primary_agent, critic_agent], termination_condition=max_msg_termination)\n",
    "\n",
    "await Console(round_robin_team.run_stream(task=\"Describe a futuristic city in 50 words\"))"
   ]
  },
  {
   "cell_type": "markdown",
   "metadata": {},
   "source": [
    "# Combining Termination Conditions in Autogen AgentChat\n",
    "\n",
    "In Autogen AgentChat, termination conditions can be combined using the logical `AND (&)` and `OR (|)` operators. This allows for more complex termination logic to control when a conversation should stop.\n",
    "\n",
    "## Example: Combining Termination Conditions  \n",
    "\n",
    "In the following example, we create a team where the conversation stops if **either** of the following conditions is met:  \n",
    "1. **A maximum of 10 messages** have been exchanged.  \n",
    "2. **The critic agent approves a message** by responding with `\"APPROVE\"`.\n",
    "\n",
    "By using the `|` (OR) operator, the conversation will terminate as soon as **one of these conditions is satisfied**.\n"
   ]
  },
  {
   "cell_type": "code",
   "execution_count": null,
   "metadata": {},
   "outputs": [],
   "source": [
    "\n",
    "# Define termination conditions\n",
    "max_msg_termination = MaxMessageTermination(max_messages=10)\n",
    "critic_approval_termination = TextMentionTermination(text=\"APPROVE\")\n",
    "\n",
    "# Combine conditions using OR (|)\n",
    "combined_termination = max_msg_termination | critic_approval_termination\n",
    "\n",
    "# Create a round-robin team with the combined termination condition\n",
    "round_robin_team = RoundRobinGroupChat([primary_agent, critic_agent], termination_condition=combined_termination)\n",
    "\n",
    "# Execute the conversation task\n",
    "await Console(round_robin_team.run_stream(task=\"Provide a summary of the latest advancements in AI.\"))\n"
   ]
  },
  {
   "cell_type": "markdown",
   "metadata": {},
   "source": [
    "## Using AND (`&`) for Combined Termination Conditions in Autogen AgentChat  \n",
    "\n",
    "In addition to using the OR (`|`) operator, termination conditions can also be combined using the AND (`&`) operator. This ensures that the conversation will **only stop when all specified conditions are met**.\n",
    "\n",
    "It can be written like\n",
    "`combined_termination = max_msg_termination & text_termination`\n"
   ]
  },
  {
   "cell_type": "markdown",
   "metadata": {},
   "source": [
    "> You can also create custom termination conditions and details can be found here https://microsoft.github.io/autogen/stable/user-guide/agentchat-user-guide/tutorial/termination.html"
   ]
  }
 ],
 "metadata": {
  "kernelspec": {
   "display_name": ".venv",
   "language": "python",
   "name": "python3"
  },
  "language_info": {
   "codemirror_mode": {
    "name": "ipython",
    "version": 3
   },
   "file_extension": ".py",
   "mimetype": "text/x-python",
   "name": "python",
   "nbconvert_exporter": "python",
   "pygments_lexer": "ipython3",
   "version": "3.12.4"
  }
 },
 "nbformat": 4,
 "nbformat_minor": 2
}
