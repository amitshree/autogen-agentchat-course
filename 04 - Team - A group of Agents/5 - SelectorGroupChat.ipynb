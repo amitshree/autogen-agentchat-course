{
 "cells": [
  {
   "cell_type": "markdown",
   "metadata": {},
   "source": [
    "# Selector Group Chat  \n",
    "\n",
    "`SelectorGroupChat` is a dynamic team-based chat system where participants take turns broadcasting messages to all other members. Unlike traditional round-robin approaches, it leverages a generative model (e.g., an LLM) to intelligently select the next speaker based on the ongoing conversation, enabling more context-aware and adaptive interactions.  \n",
    "\n",
    "## Key Features  \n",
    "\n",
    "- **Intelligent Speaker Selection** – A model-driven approach determines the most relevant next speaker.  \n",
    "- **Configurable Roles & Descriptions** – Define unique roles and attributes for each participant.  \n",
    "- **Turn Management** – Prevents consecutive turns by the same speaker (optional).  \n",
    "- **Flexible Selection Process** – Customize the selection prompt and override the model’s decision with a custom function.  \n",
    "\n",
    "## How It Works  \n",
    "\n",
    "`SelectorGroupChat` builds upon the structure of `RoundRobinGroupChat` but introduces a model-based mechanism for selecting the next speaker. When a task is initiated through `run()` or `run_stream()`, the following steps occur:  \n",
    "\n",
    "### 1. Context Analysis & Speaker Selection  \n",
    "   - The system evaluates the conversation history and participant attributes (e.g., name, description).  \n",
    "   - A model determines the most suitable next speaker.  \n",
    "   - By default, the same speaker is not selected twice in a row unless they are the only available agent. This behavior can be modified using `allow_repeated_speaker=True`.  \n",
    "   - You can also override the model-based selection by providing a custom selection function.  \n",
    "\n",
    "### 2. Generating & Broadcasting the Response  \n",
    "   - The selected speaker generates a response.  \n",
    "   - The response is shared with all other participants.  \n",
    "\n",
    "### 3. Checking for Termination  \n",
    "   - The system evaluates whether the conversation should end based on predefined termination conditions.  \n",
    "   - If the conversation is still active, the process repeats from Step 1.  \n",
    "\n",
    "### 4. Returning the Final Result  \n",
    "   - Once the conversation concludes, the system returns a `TaskResult` containing the complete conversation history.  \n",
    "\n",
    "This approach ensures an adaptive, context-driven collaboration experience, making `SelectorGroupChat` ideal for scenarios requiring structured yet flexible interactions.  "
   ]
  },
  {
   "cell_type": "code",
   "execution_count": null,
   "metadata": {},
   "outputs": [],
   "source": [
    "from autogen_agentchat.agents import AssistantAgent, UserProxyAgent\n",
    "from autogen_agentchat.conditions import MaxMessageTermination, TextMentionTermination\n",
    "from autogen_agentchat.messages import AgentEvent, ChatMessage\n",
    "from autogen_agentchat.teams import SelectorGroupChat\n",
    "from autogen_agentchat.ui import Console\n",
    "from autogen_ext.models.openai import OpenAIChatCompletionClient\n",
    "\n",
    "def weather_check_tool(city: str) -> str:\n",
    "    weather_data = {\n",
    "        \"Dubai\": \"Sunny, 35°C\",\n",
    "        \"New York\": \"Cloudy, 22°C\",\n",
    "        \"London\": \"Rainy, 18°C\",\n",
    "        \"Tokyo\": \"Clear, 26°C\"\n",
    "    }\n",
    "    return weather_data.get(city, \"Weather data not available.\")\n",
    "\n",
    "def currency_exchange_tool(amount: float, from_currency: str, to_currency: str) -> str:\n",
    "    exchange_rates = {\n",
    "        (\"USD\", \"EUR\"): 0.92,\n",
    "        (\"EUR\", \"USD\"): 1.08,\n",
    "        (\"USD\", \"AED\"): 3.67,\n",
    "        (\"AED\", \"USD\"): 0.27\n",
    "    }\n",
    "    rate = exchange_rates.get((from_currency, to_currency), None)\n",
    "    if rate:\n",
    "        converted_amount = amount * rate\n",
    "        return f\"{amount} {from_currency} is equal to {converted_amount:.2f} {to_currency}.\"\n",
    "    return \"Exchange rate not available.\"\n",
    "\n",
    "\n",
    "\n",
    "model_client = OpenAIChatCompletionClient(\n",
    "    model=\"gpt-4o\"\n",
    ")\n"
   ]
  },
  {
   "cell_type": "code",
   "execution_count": null,
   "metadata": {},
   "outputs": [],
   "source": [
    "\n",
    "planning_agent = AssistantAgent(\n",
    "    \"PlanningAgent\",\n",
    "    description=\"An agent for planning tasks. It should break down tasks and delegate them to the appropriate agents.\",\n",
    "    model_client=model_client,\n",
    "    system_message=\"\"\"\n",
    "    You are a planning agent.\n",
    "    Your job is to break down complex tasks into smaller, manageable subtasks.\n",
    "    Your team members are:\n",
    "        WeatherAgent: Checks weather conditions\n",
    "        CurrencyAgent: Handles currency conversion\n",
    "    \n",
    "    You only plan and delegate tasks - you do not execute them yourself.\n",
    "    \n",
    "    When assigning tasks, use this format:\n",
    "    1. <agent> : <task>\n",
    "    \n",
    "    After all tasks are complete, summarize the findings and end with \"TERMINATE\".\n",
    "    \"\"\",\n",
    ")\n",
    "\n",
    "weather_agent = AssistantAgent(\n",
    "    \"WeatherAgent\",\n",
    "    description=\"An agent that provides current weather conditions for a given city.\",\n",
    "    tools=[weather_check_tool],\n",
    "    model_client=model_client,\n",
    "    system_message=\"\"\"\n",
    "    You are a weather-checking agent.\n",
    "    Your only tool is weather_check_tool - use it to fetch weather data for a city.\n",
    "    \"\"\",\n",
    ")\n",
    "\n",
    "currency_agent = AssistantAgent(\n",
    "    \"CurrencyAgent\",\n",
    "    description=\"An agent that performs currency exchange calculations.\",\n",
    "    model_client=model_client,\n",
    "    tools=[currency_exchange_tool],\n",
    "    system_message=\"\"\"\n",
    "    You are a currency exchange agent.\n",
    "    Your job is to convert a given amount from one currency to another using the available exchange rates.\n",
    "    \"\"\",\n",
    ")\n"
   ]
  },
  {
   "cell_type": "code",
   "execution_count": null,
   "metadata": {},
   "outputs": [],
   "source": [
    "# Mention all termination conditions\n",
    "\n",
    "text_mention_termination = TextMentionTermination(\"TERMINATE\")\n",
    "max_messages_termination = MaxMessageTermination(max_messages=25)\n",
    "termination = text_mention_termination | max_messages_termination"
   ]
  },
  {
   "cell_type": "code",
   "execution_count": null,
   "metadata": {},
   "outputs": [],
   "source": [
    "# Create the team\n",
    "\n",
    "team = SelectorGroupChat(\n",
    "    [planning_agent, weather_agent, currency_agent],\n",
    "    model_client=model_client,\n",
    "    termination_condition=termination,\n",
    "    allow_repeated_speaker=True,  # Allow an agent to speak multiple turns in a row.\n",
    ")"
   ]
  },
  {
   "cell_type": "code",
   "execution_count": null,
   "metadata": {},
   "outputs": [],
   "source": [
    "# Run the task\n",
    "task = \"What is the current weather in Dubai, and how much is 100 USD in AED?\"\n",
    "await Console(team.run_stream(task=task))"
   ]
  },
  {
   "cell_type": "markdown",
   "metadata": {},
   "source": [
    "## Custom Selector Function in Multi-Agent System\n",
    "In a multi-agent system, we sometimes need more control over the agent selection process. The `selector_func` allows us to override the default model-based selection with custom logic.\n",
    "\n",
    "#### Use Case\n",
    "We want the Planning Agent to respond immediately after any specialized agent (WeatherAgent or CurrencyAgent) has spoken, ensuring smooth coordination."
   ]
  },
  {
   "cell_type": "markdown",
   "metadata": {},
   "source": []
  },
  {
   "cell_type": "code",
   "execution_count": null,
   "metadata": {},
   "outputs": [],
   "source": [
    "# Custom selector function\n",
    "\n",
    "from typing import Sequence\n",
    "\n",
    "def selector_func(messages: Sequence[AgentEvent | ChatMessage]) -> str | None:\n",
    "    if messages[-1].source != planning_agent.name:\n",
    "        return planning_agent.name\n",
    "    return None\n"
   ]
  },
  {
   "cell_type": "markdown",
   "metadata": {},
   "source": [
    "> <b>Note:</b> If the last message is not from the PlanningAgent, it forces the next response from PlanningAgent.\n",
    "Otherwise, it allows normal selection."
   ]
  },
  {
   "cell_type": "code",
   "execution_count": null,
   "metadata": {},
   "outputs": [],
   "source": [
    "await team.reset()\n",
    "team = SelectorGroupChat(\n",
    "    [planning_agent, weather_agent, currency_agent],\n",
    "    model_client=model_client,\n",
    "    termination_condition=termination,\n",
    "    allow_repeated_speaker=True,\n",
    "    selector_func=selector_func,\n",
    ")"
   ]
  },
  {
   "cell_type": "code",
   "execution_count": null,
   "metadata": {},
   "outputs": [],
   "source": [
    "task = \"What is the current weather in Dubai, and how much is 100 USD in AED?\"\n",
    "await Console(team.run_stream(task=task))"
   ]
  }
 ],
 "metadata": {
  "kernelspec": {
   "display_name": ".venv",
   "language": "python",
   "name": "python3"
  },
  "language_info": {
   "codemirror_mode": {
    "name": "ipython",
    "version": 3
   },
   "file_extension": ".py",
   "mimetype": "text/x-python",
   "name": "python",
   "nbconvert_exporter": "python",
   "pygments_lexer": "ipython3",
   "version": "3.12.4"
  }
 },
 "nbformat": 4,
 "nbformat_minor": 2
}
