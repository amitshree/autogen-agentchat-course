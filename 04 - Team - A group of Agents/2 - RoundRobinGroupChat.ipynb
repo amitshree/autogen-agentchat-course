{
 "cells": [
  {
   "cell_type": "markdown",
   "metadata": {},
   "source": [
    "# Creating a Team\n",
    "\n",
    "## RoundRobinGroupChat  \n",
    "\n",
    "**RoundRobinGroupChat** is a simple yet effective team configuration where all agents share the same context and take turns responding in a round-robin fashion. Each agent, during its turn, broadcasts its response to all other agents, ensuring that the entire team maintains a consistent context.  \n",
    "\n",
    "## Team Setup  \n",
    "\n",
    "We will begin by creating a team with:  \n",
    "- **Two AssistantAgent instances**  \n",
    "- A **TextMentionTermination** condition that stops the team when a specific word is detected in an agent’s response.\n"
   ]
  },
  {
   "cell_type": "code",
   "execution_count": null,
   "metadata": {},
   "outputs": [],
   "source": [
    "from autogen_agentchat.agents import AssistantAgent\n",
    "from autogen_agentchat.conditions import TextMentionTermination\n",
    "from autogen_agentchat.teams import RoundRobinGroupChat\n",
    "from autogen_core import CancellationToken\n",
    "from autogen_agentchat.base import TaskResult\n",
    "from autogen_ext.models.openai import OpenAIChatCompletionClient\n",
    "from autogen_agentchat.ui import Console\n",
    "\n",
    "# Create an OpenAI model client.\n",
    "model_client = OpenAIChatCompletionClient(\n",
    "    model=\"gpt-4o-mini\"\n",
    ")\n",
    "\n",
    "# Create the BlogPostDraftAgent\n",
    "blog_post_draft_agent = AssistantAgent(\n",
    "    \"BlogPostDraftAgent\",\n",
    "    model_client=model_client,\n",
    "    system_message=\"You are a blog post drafting agent. Your task is to generate an outline or initial draft of a blog post or article based on the topic provided. Make sure to include clear sections, headings, and a logical flow.\"\n",
    ")\n",
    "\n",
    "# Create the BlogPostEnhancementAgent\n",
    "blog_post_enhancement_agent = AssistantAgent(\n",
    "    \"BlogPostEnhancementAgent\",\n",
    "    model_client=model_client,\n",
    "    system_message=\"You are a blog post enhancement agent. Your task is to improve the draft provided by the drafting agent. Focus on improving readability, adding relevant examples, and optimizing for SEO. If you are satisfied with the final draft, respond with 'FINAL'.\"\n",
    ")\n",
    "\n",
    "# Define the termination condition that stops the task when 'FINAL' is mentioned\n",
    "text_termination = TextMentionTermination(\"FINAL\")\n",
    "\n",
    "# Create a team where the BlogPostDraftAgent and BlogPostEnhancementAgent interact.\n",
    "team = RoundRobinGroupChat(\n",
    "    [blog_post_draft_agent, blog_post_enhancement_agent],\n",
    "    termination_condition=text_termination\n",
    ")"
   ]
  },
  {
   "cell_type": "markdown",
   "metadata": {},
   "source": [
    "## Running and Observing a team"
   ]
  },
  {
   "cell_type": "code",
   "execution_count": null,
   "metadata": {},
   "outputs": [],
   "source": [
    "# You can run a team using team.run() or team.run_stream()\n",
    "async for message in team.run_stream(task=\"Create a short blog post about the benefits of using AI in e-commerce.\"): \n",
    "    if isinstance(message, TaskResult):\n",
    "        print(\"Stop Reason:\", message.stop_reason)\n",
    "    else:\n",
    "        print(message)"
   ]
  },
  {
   "cell_type": "markdown",
   "metadata": {},
   "source": [
    "<br> \n",
    "The Console() method provides a convenient way to print messages to the console with proper formatting."
   ]
  },
  {
   "cell_type": "markdown",
   "metadata": {},
   "source": [
    "## Resetting a Team\n",
    "\n",
    "You can reset the team by calling the `reset()` method. This method will clear the team’s state, including all agents. It will invoke each agent’s `on_reset()` method to reset the agent’s state.\n"
   ]
  },
  {
   "cell_type": "code",
   "execution_count": null,
   "metadata": {},
   "outputs": [],
   "source": [
    "\n",
    "await team.reset()  # Reset the team for the next run."
   ]
  },
  {
   "cell_type": "code",
   "execution_count": null,
   "metadata": {},
   "outputs": [],
   "source": [
    "await Console(team.run_stream(task=\"Create a short blog post about the benefits of using AI in e-commerce.\"))  # Stream the messages to the console."
   ]
  }
 ],
 "metadata": {
  "kernelspec": {
   "display_name": ".venv",
   "language": "python",
   "name": "python3"
  },
  "language_info": {
   "codemirror_mode": {
    "name": "ipython",
    "version": 3
   },
   "file_extension": ".py",
   "mimetype": "text/x-python",
   "name": "python",
   "nbconvert_exporter": "python",
   "pygments_lexer": "ipython3",
   "version": "3.12.4"
  }
 },
 "nbformat": 4,
 "nbformat_minor": 2
}
