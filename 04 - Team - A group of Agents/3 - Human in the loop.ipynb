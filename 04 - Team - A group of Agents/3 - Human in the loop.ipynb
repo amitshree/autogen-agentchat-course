{
 "cells": [
  {
   "cell_type": "markdown",
   "metadata": {},
   "source": [
    "# How to Interact with the Team from Your Application\n",
    "\n",
    "There are two main ways to provide feedback to the team while using your application:\n",
    "\n",
    "1. **During a run** – Use a `UserProxyAgent` while `run()` or `run_stream()` is executing.  \n",
    "2. **After a run ends** – Provide feedback as input when calling `run()` or `run_stream()` again.\n",
    "\n",
    "## Providing Feedback During a Run\n",
    "\n",
    "The `UserProxyAgent` is a special built-in agent that allows users to give feedback to the team while it is running.\n",
    "\n",
    "### How to Use the `UserProxyAgent`\n",
    "- Create an instance of `UserProxyAgent`.  \n",
    "- Add it to the team before starting the run.  \n",
    "- The team will decide when to ask for user feedback through the `UserProxyAgent`.\n",
    "\n",
    "### When is `UserProxyAgent` Called?\n",
    "- **In a RoundRobinGroupChat team** – It is called in the order it was added to the team.  \n",
    "- **In a SelectorGroupChat team** – The selector prompt or function decides when the `UserProxyAgent` is called.  \n"
   ]
  },
  {
   "cell_type": "code",
   "execution_count": 2,
   "metadata": {},
   "outputs": [
    {
     "name": "stdout",
     "output_type": "stream",
     "text": [
      "---------- user ----------\n",
      "Suggest three creative ideas for a new mobile app.\n"
     ]
    },
    {
     "name": "stdout",
     "output_type": "stream",
     "text": [
      "---------- assistant ----------\n",
      "Here are three creative ideas for a new mobile app:\n",
      "\n",
      "1. **Local Adventure Finder**: This app encourages users to explore their local area by offering personalized adventure suggestions based on their interests, time availability, and fitness level. It could include features like geo-tagged hidden gems, themed scavenger hunts, and integration with local events. Users can earn points or rewards for completing adventures, which can be redeemed at local businesses.\n",
      "\n",
      "2. **Mood Journey**: An interactive journaling app that allows users to document their daily emotions through text, mood tracking, and multimedia entries. The app could offer guided prompts based on users’ moods and provide insights through visual graphs and charts. Users can create a \"mood map\", track patterns over time, and receive tailored suggestions for improving their emotional well-being, such as activity recommendations or mindfulness exercises.\n",
      "\n",
      "3. **Skill Swap Marketplace**: A platform that connects people looking to swap skills or services without using money. Users can create profiles showcasing their skills (e.g., guitar lessons, graphic design, language tutoring), and they can browse others’ offerings. The app would facilitate direct messaging for coordination and include a review system to build trust within the community. This promotes skill-sharing and helps users learn new things in a fun and affordable way.\n",
      "\n",
      "TERMINATE\n",
      "---------- user_proxy ----------\n",
      "REJECT\n",
      "---------- assistant ----------\n",
      "Please let me know how I can assist you further or if you would like to explore different ideas!\n",
      "---------- user_proxy ----------\n",
      "reject\n",
      "---------- assistant ----------\n",
      "Understood! If you have any specific requests or preferences for ideas, just let me know, and I'll be happy to help.\n",
      "---------- user_proxy ----------\n",
      "APPROVE\n"
     ]
    },
    {
     "data": {
      "text/plain": [
       "TaskResult(messages=[TextMessage(source='user', models_usage=None, metadata={}, content='Suggest three creative ideas for a new mobile app.', type='TextMessage'), TextMessage(source='assistant', models_usage=RequestUsage(prompt_tokens=46, completion_tokens=260), metadata={}, content='Here are three creative ideas for a new mobile app:\\n\\n1. **Local Adventure Finder**: This app encourages users to explore their local area by offering personalized adventure suggestions based on their interests, time availability, and fitness level. It could include features like geo-tagged hidden gems, themed scavenger hunts, and integration with local events. Users can earn points or rewards for completing adventures, which can be redeemed at local businesses.\\n\\n2. **Mood Journey**: An interactive journaling app that allows users to document their daily emotions through text, mood tracking, and multimedia entries. The app could offer guided prompts based on users’ moods and provide insights through visual graphs and charts. Users can create a \"mood map\", track patterns over time, and receive tailored suggestions for improving their emotional well-being, such as activity recommendations or mindfulness exercises.\\n\\n3. **Skill Swap Marketplace**: A platform that connects people looking to swap skills or services without using money. Users can create profiles showcasing their skills (e.g., guitar lessons, graphic design, language tutoring), and they can browse others’ offerings. The app would facilitate direct messaging for coordination and include a review system to build trust within the community. This promotes skill-sharing and helps users learn new things in a fun and affordable way.\\n\\nTERMINATE', type='TextMessage'), UserInputRequestedEvent(source='user_proxy', models_usage=None, metadata={}, request_id='50a55d83-373a-4515-8502-9400cda2418b', content='', type='UserInputRequestedEvent'), TextMessage(source='user_proxy', models_usage=None, metadata={}, content='REJECT', type='TextMessage'), TextMessage(source='assistant', models_usage=RequestUsage(prompt_tokens=319, completion_tokens=21), metadata={}, content='Please let me know how I can assist you further or if you would like to explore different ideas!', type='TextMessage'), UserInputRequestedEvent(source='user_proxy', models_usage=None, metadata={}, request_id='a3a8651a-de01-477e-9150-dac74c811a01', content='', type='UserInputRequestedEvent'), TextMessage(source='user_proxy', models_usage=None, metadata={}, content='reject', type='TextMessage'), TextMessage(source='assistant', models_usage=RequestUsage(prompt_tokens=352, completion_tokens=27), metadata={}, content=\"Understood! If you have any specific requests or preferences for ideas, just let me know, and I'll be happy to help.\", type='TextMessage'), UserInputRequestedEvent(source='user_proxy', models_usage=None, metadata={}, request_id='ae6d5e95-31a2-4ab3-a2c6-989f53672749', content='', type='UserInputRequestedEvent'), TextMessage(source='user_proxy', models_usage=None, metadata={}, content='APPROVE', type='TextMessage')], stop_reason=\"Text 'APPROVE' mentioned\")"
      ]
     },
     "execution_count": 2,
     "metadata": {},
     "output_type": "execute_result"
    }
   ],
   "source": [
    "from autogen_agentchat.agents import AssistantAgent, UserProxyAgent\n",
    "from autogen_agentchat.conditions import TextMentionTermination\n",
    "from autogen_agentchat.teams import RoundRobinGroupChat\n",
    "from autogen_agentchat.ui import Console\n",
    "from autogen_ext.models.openai import OpenAIChatCompletionClient\n",
    "\n",
    "# Create the agents.\n",
    "model_client = OpenAIChatCompletionClient(model=\"gpt-4o-mini\")\n",
    "assistant = AssistantAgent(\"assistant\", model_client=model_client)\n",
    "user_proxy = UserProxyAgent(\"user_proxy\", input_func=input)  # Use input() to get user input from console.\n",
    "\n",
    "# Create the termination condition which will end the conversation when the user says \"APPROVE\".\n",
    "termination = TextMentionTermination(\"APPROVE\")\n",
    "\n",
    "# Create the team.\n",
    "team = RoundRobinGroupChat([assistant, user_proxy], termination_condition=termination)\n",
    "\n",
    "# Run the conversation and stream to the console.\n",
    "stream = team.run_stream(task=\"Suggest three creative ideas for a new mobile app.\")\n",
    "# Use asyncio.run(...) when running in a script.\n",
    "await Console(stream)\n"
   ]
  },
  {
   "cell_type": "markdown",
   "metadata": {},
   "source": [
    "# Providing Feedback for the Next Run  \n",
    "\n",
    "In many cases, an application or user interacts with a team of agents in a loop:  \n",
    "\n",
    "1. The team runs until it meets a termination condition.  \n",
    "2. The application or user gives feedback.  \n",
    "3. The team runs again using that feedback.  \n",
    "\n",
    "## Why is This Useful?  \n",
    "This method works well in long-running sessions where communication happens asynchronously.  \n",
    "\n",
    "- After the team finishes a run, the application **saves the team’s state**.  \n",
    "- The state is stored safely in a database or persistent storage.  \n",
    "- When feedback is received, the team **resumes from where it left off** and continues running.  \n",
    "\n",
    "This approach ensures smooth interactions between the team and the user, even across multiple sessions.  \n"
   ]
  },
  {
   "cell_type": "code",
   "execution_count": 3,
   "metadata": {},
   "outputs": [
    {
     "name": "stdout",
     "output_type": "stream",
     "text": [
      "---------- user ----------\n",
      "Suggest three creative ideas for a new mobile app.\n",
      "---------- assistant ----------\n",
      "Here are three creative ideas for a new mobile app:\n",
      "\n",
      "1. **Virtual Time Capsule**: An app that allows users to create digital time capsules by uploading photos, videos, and messages. Users can set a future date for the capsule to open, and they can choose to share it with friends or keep it private. The app can include augmented reality features for a more immersive experience when opening the capsule in the future.\n",
      "\n",
      "2. **Mood-Based Meal Planner**: An app that suggests recipes and meal plans based on the user’s current mood. Users can select their emotional state (happy, sad, stressed, etc.), and the app will recommend comforting or energetic meals, including shopping lists and prep instructions. It could also integrate with a mindfulness feature for cooking and enjoying meals mindfully.\n",
      "\n",
      "3. **Eco-Adventure Finder**: A nature-focused app that connects users with local eco-friendly activities and events, such as guided hikes, clean-up drives, or workshops on sustainable living. It can include gamification elements, encouraging users to participate in activities and earn badges for their eco-actions, fostering a community around environmental stewardship.\n",
      "\n",
      "TERMINATE\n",
      "---------- user ----------\n",
      "continue\n",
      "---------- assistant ----------\n",
      "Here are three more creative app ideas to expand the list:\n",
      "\n",
      "4. **Personalized Learning Companion**: An app designed to enhance the learning experience by adapting to users’ learning styles and paces. It could offer personalized quizzes, interactive lessons, and study reminders based on the subjects they are currently studying. The app could also feature discussion boards for study groups and incorporate AI to provide instant feedback and resources.\n",
      "\n",
      "5. **Story Weaver**: A collaborative storytelling app where users can create stories together in real-time. Each user can contribute a sentence or paragraph, and the app would allow for different genres, themes, and writing styles. It could have an option for audio narration, allowing users to listen to the story as it unfolds. This could also encourage creativity and community involvement.\n",
      "\n",
      "6. **Virtual Craft Workshop**: An app that hosts virtual craft sessions where users can participate in live workshops or tutorials across various crafting activities (knitting, painting, DIY projects). Users can share their work, receive feedback, and collaborate on projects in a creative community. The app could also include a marketplace for users to buy and sell handmade items.\n",
      "\n",
      "TERMINATE\n"
     ]
    }
   ],
   "source": [
    "from autogen_agentchat.agents import AssistantAgent\n",
    "from autogen_agentchat.teams import RoundRobinGroupChat\n",
    "from autogen_agentchat.ui import Console\n",
    "from autogen_ext.models.openai import OpenAIChatCompletionClient\n",
    "\n",
    "# Create the agents.\n",
    "model_client = OpenAIChatCompletionClient(model=\"gpt-4o-mini\")\n",
    "assistant = AssistantAgent(\"assistant\", model_client=model_client)\n",
    "\n",
    "# Create the team setting a maximum number of turns to 1.\n",
    "team = RoundRobinGroupChat([assistant], max_turns=1)\n",
    "\n",
    "task = \"Suggest three creative ideas for a new mobile app.\"\n",
    "while True:\n",
    "    # Run the conversation and stream to the console.\n",
    "    stream = team.run_stream(task=task)\n",
    "    # Use asyncio.run(...) when running in a script.\n",
    "    await Console(stream)\n",
    "    # Get the user response.\n",
    "    task = input(\"Enter your feedback (type 'exit' to leave): \")\n",
    "    if task.lower().strip() == \"exit\":\n",
    "        break\n"
   ]
  },
  {
   "cell_type": "markdown",
   "metadata": {},
   "source": [
    "> #### You can see that the team stopped immediately after one agent responded."
   ]
  }
 ],
 "metadata": {
  "kernelspec": {
   "display_name": ".venv",
   "language": "python",
   "name": "python3"
  },
  "language_info": {
   "codemirror_mode": {
    "name": "ipython",
    "version": 3
   },
   "file_extension": ".py",
   "mimetype": "text/x-python",
   "name": "python",
   "nbconvert_exporter": "python",
   "pygments_lexer": "ipython3",
   "version": "3.12.4"
  }
 },
 "nbformat": 4,
 "nbformat_minor": 2
}
