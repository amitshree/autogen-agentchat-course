{
 "cells": [
  {
   "cell_type": "markdown",
   "metadata": {},
   "source": [
    "## Ollama Local Model Client\n",
    "\n",
    "Ollama is a local model server that runs models on your machine.\n",
    "\n",
    "> Note: Small local models may not be as capable as large cloud models. Performance and output may vary based on the task.\n",
    "\n",
    "### Installation:\n",
    "1. Download ollama from https://ollama.com/\n",
    "2. Download llama 3.2 using command ```ollama run llama3.2:latest```\n",
    "### Implementation:"
   ]
  },
  {
   "cell_type": "code",
   "execution_count": null,
   "metadata": {},
   "outputs": [],
   "source": [
    "from autogen_core.models import UserMessage\n",
    "from autogen_ext.models.ollama import OllamaChatCompletionClient\n",
    "import asyncio\n",
    "\n",
    "ollama_client = OllamaChatCompletionClient(\n",
    "    model=\"llama3.2:latest\",\n",
    ")\n",
    "\n",
    "\n",
    "response = await ollama_client.create([UserMessage(content=\"Tell me a joke.\", source=\"user\")])\n",
    "print(\"Ollama Response:\", response.content)"
   ]
  }
 ],
 "metadata": {
  "kernelspec": {
   "display_name": ".venv",
   "language": "python",
   "name": "python3"
  },
  "language_info": {
   "codemirror_mode": {
    "name": "ipython",
    "version": 3
   },
   "file_extension": ".py",
   "mimetype": "text/x-python",
   "name": "python",
   "nbconvert_exporter": "python",
   "pygments_lexer": "ipython3",
   "version": "3.12.4"
  }
 },
 "nbformat": 4,
 "nbformat_minor": 2
}
