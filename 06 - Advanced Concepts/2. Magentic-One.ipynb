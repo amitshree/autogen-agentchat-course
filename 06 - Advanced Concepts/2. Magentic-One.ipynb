{
 "cells": [
  {
   "cell_type": "markdown",
   "metadata": {},
   "source": [
    "# Magentic-One\n",
    "\n",
    "Magentic-One is a multi-agent system designed to handle various web and file-based tasks across different domains. It is a major advancement in multi-agent technology, performing well on several benchmarks. You can find detailed results in the technical report.\n",
    "\n",
    "# Magentic-One Agents\n",
    "\n",
    "<img src=\"magnetic-one.png\" height=\"400\">\n",
    "\n",
    "Magentic-One is made up of different agents, each with a specific role in completing tasks. Here’s a simple breakdown of what each agent does:\n",
    "\n",
    "## 1. Orchestrator  \n",
    "The **lead agent** that manages everything. It breaks tasks into smaller steps, assigns them to other agents, tracks progress, and makes adjustments if needed.\n",
    "\n",
    "## 2. WebSurfer  \n",
    "A **browser-controlling agent** that interacts with a Chromium-based web browser. It can:  \n",
    "- **Navigate** (visit websites, perform searches)  \n",
    "- **Interact** (click buttons, fill forms)  \n",
    "- **Read & Summarize** (extract information, answer questions)  \n",
    "\n",
    "It relies on the browser's **accessibility tree** and **set-of-marks prompting** to understand and interact with web pages.\n",
    "\n",
    "## 3. FileSurfer  \n",
    "A **file-reading agent** that can open and preview local files (in markdown format) and explore folders. It can:  \n",
    "- Read various file types  \n",
    "- List folder contents  \n",
    "- Navigate directories  \n",
    "\n",
    "## 4. Coder  \n",
    "A **coding agent** that:  \n",
    "- Writes code  \n",
    "- Analyzes data from other agents  \n",
    "- Creates new scripts or programs  \n",
    "\n",
    "It is optimized through system prompts to focus on programming tasks.\n",
    "\n",
    "## 5. ComputerTerminal  \n",
    "A **console access agent** that:  \n",
    "- Runs the Coder’s programs  \n",
    "- Installs new software or libraries  \n",
    "\n",
    "This allows the system to test and execute code in a real development environment.\n",
    "\n"
   ]
  },
  {
   "cell_type": "markdown",
   "metadata": {},
   "source": [
    "##### For MultimodalWebSurfer, you also need to install playwright dependencies. Run below command\n",
    "`playwright install --with-deps chromium`"
   ]
  },
  {
   "cell_type": "code",
   "execution_count": null,
   "metadata": {},
   "outputs": [],
   "source": [
    "from autogen_ext.models.openai import OpenAIChatCompletionClient\n",
    "from autogen_agentchat.teams import MagenticOneGroupChat\n",
    "from autogen_agentchat.ui import Console\n",
    "from autogen_ext.agents.web_surfer import MultimodalWebSurfer\n",
    "\n",
    "model_client = OpenAIChatCompletionClient(model=\"gpt-4o\")\n",
    "\n",
    "surfer = MultimodalWebSurfer(\n",
    "    \"WebSurfer\",\n",
    "    model_client=model_client,\n",
    ")\n",
    "\n",
    "team = MagenticOneGroupChat([surfer], model_client=model_client)\n",
    "await Console(team.run_stream(task=\"Find 2 latest research papers on Quantum Computing and summarize key findings.\"))"
   ]
  }
 ],
 "metadata": {
  "kernelspec": {
   "display_name": ".venv",
   "language": "python",
   "name": "python3"
  },
  "language_info": {
   "codemirror_mode": {
    "name": "ipython",
    "version": 3
   },
   "file_extension": ".py",
   "mimetype": "text/x-python",
   "name": "python",
   "nbconvert_exporter": "python",
   "pygments_lexer": "ipython3",
   "version": "3.12.4"
  }
 },
 "nbformat": 4,
 "nbformat_minor": 2
}
