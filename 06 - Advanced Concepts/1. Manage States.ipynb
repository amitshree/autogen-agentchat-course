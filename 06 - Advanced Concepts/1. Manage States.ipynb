{
 "cells": [
  {
   "cell_type": "markdown",
   "metadata": {},
   "source": [
    "# Managing State in Multi-Agent Applications\n",
    "In a multi-agent system, it's often useful to save the current state of agents, teams, and termination conditions. This allows us to load them back later, which is especially helpful in web applications where endpoints handle requests without storing persistent state.\n",
    "\n",
    "In this guide, we'll explore how to save and load the state of agents and teams."
   ]
  },
  {
   "cell_type": "markdown",
   "metadata": {},
   "source": [
    "### Saving and Loading Agents\n",
    "To save an agent’s state, we use the `save_state()` method. Let's create an assistant agent that shares fun facts about animals."
   ]
  },
  {
   "cell_type": "code",
   "execution_count": null,
   "metadata": {},
   "outputs": [],
   "source": [
    "from autogen_agentchat.agents import AssistantAgent\n",
    "from autogen_agentchat.conditions import MaxMessageTermination\n",
    "from autogen_agentchat.messages import TextMessage\n",
    "from autogen_agentchat.teams import RoundRobinGroupChat\n",
    "from autogen_agentchat.ui import Console\n",
    "from autogen_core import CancellationToken\n",
    "from autogen_ext.models.openai import OpenAIChatCompletionClient\n",
    "\n",
    "# Create an assistant agent\n",
    "assistant_agent = AssistantAgent(\n",
    "    name=\"assistant_agent\",\n",
    "    system_message=\"You are a fun fact expert about animals.\",\n",
    "    model_client=OpenAIChatCompletionClient(\n",
    "        model=\"gpt-4o-mini\",\n",
    "    ),\n",
    ")\n",
    "\n",
    "# Ask for a fun fact about dolphins\n",
    "response = await assistant_agent.on_messages(\n",
    "    [TextMessage(content=\"Tell me a fun fact about dolphins.\", source=\"user\")], CancellationToken()\n",
    ")\n",
    "print(response.chat_message.content)\n"
   ]
  },
  {
   "cell_type": "code",
   "execution_count": null,
   "metadata": {},
   "outputs": [],
   "source": [
    "\n",
    "# Save the agent's state\n",
    "agent_state = await assistant_agent.save_state()\n",
    "print(agent_state)"
   ]
  },
  {
   "cell_type": "code",
   "execution_count": null,
   "metadata": {},
   "outputs": [],
   "source": [
    "\n",
    "# Create a new agent instance and load the saved state\n",
    "new_assistant_agent = AssistantAgent(\n",
    "    name=\"assistant_agent\",\n",
    "    system_message=\"You are a fun fact expert about animals.\",\n",
    "    model_client=OpenAIChatCompletionClient(\n",
    "        model=\"gpt-4o-mini\",\n",
    "    ),\n",
    ")\n",
    "await new_assistant_agent.load_state(agent_state)\n",
    "\n",
    "# Ask about the previous fun fact\n",
    "response = await new_assistant_agent.on_messages(\n",
    "    [TextMessage(content=\"What was the fun fact you shared about dolphins?\", source=\"user\")], CancellationToken()\n",
    ")\n",
    "print(response.chat_message.content)\n"
   ]
  },
  {
   "cell_type": "markdown",
   "metadata": {},
   "source": [
    "### Saving and Loading Teams\n",
    "We can also save and load the state of a team. When we save a team’s state, it includes the state of all agents within it.\n",
    "\n",
    "##### Creating a Team\n",
    "Let's create a team where an agent shares random animal facts."
   ]
  },
  {
   "cell_type": "code",
   "execution_count": null,
   "metadata": {},
   "outputs": [],
   "source": [
    "# Create an assistant agent\n",
    "assistant_agent = AssistantAgent(\n",
    "    name=\"assistant_agent\",\n",
    "    system_message=\"You are a fun fact expert about animals.\",\n",
    "    model_client=OpenAIChatCompletionClient(\n",
    "        model=\"gpt-4o-mini\",\n",
    "    ),\n",
    ")\n",
    "\n",
    "# Define a team that cycles through agents\n",
    "agent_team = RoundRobinGroupChat([assistant_agent], termination_condition=MaxMessageTermination(max_messages=2))\n",
    "\n",
    "# Ask for an animal fact\n",
    "stream = agent_team.run_stream(task=\"Tell me a surprising fact about octopuses.\")\n",
    "await Console(stream)\n",
    "\n",
    "# Save the team's state\n",
    "team_state = await agent_team.save_state()"
   ]
  },
  {
   "cell_type": "markdown",
   "metadata": {},
   "source": [
    "### Resetting the Team\n",
    "If we reset the team and ask about the last shared fact, it won’t remember because the state was not loaded."
   ]
  },
  {
   "cell_type": "code",
   "execution_count": null,
   "metadata": {},
   "outputs": [],
   "source": [
    "# Reset the team\n",
    "await agent_team.reset()\n",
    "\n",
    "# Try asking again\n",
    "stream = agent_team.run_stream(task=\"What was the last animal fact you shared?\")\n",
    "await Console(stream)"
   ]
  },
  {
   "cell_type": "markdown",
   "metadata": {},
   "source": [
    "### Loading the Team's State\n",
    "Now, let's load the saved state and ask the same question again."
   ]
  },
  {
   "cell_type": "code",
   "execution_count": null,
   "metadata": {},
   "outputs": [],
   "source": [
    "# Load the saved state\n",
    "await agent_team.load_state(team_state)\n",
    "\n",
    "# Ask again\n",
    "stream = agent_team.run_stream(task=\"What was the last animal fact you shared?\")\n",
    "await Console(stream)\n"
   ]
  },
  {
   "cell_type": "markdown",
   "metadata": {},
   "source": [
    "### Persisting State to a File\n",
    "We can store the team’s state in a file (or a database) and reload it later."
   ]
  },
  {
   "cell_type": "code",
   "execution_count": null,
   "metadata": {},
   "outputs": [],
   "source": [
    "import json\n",
    "\n",
    "# Save state to a file\n",
    "with open(\"team_state.json\", \"w\") as f:\n",
    "    json.dump(team_state, f)\n",
    "\n",
    "# Load state from a file\n",
    "with open(\"team_state.json\", \"r\") as f:\n",
    "    team_state = json.load(f)\n",
    "\n",
    "# Create a new team and load the saved state\n",
    "new_agent_team = RoundRobinGroupChat([assistant_agent], termination_condition=MaxMessageTermination(max_messages=2))\n",
    "await new_agent_team.load_state(team_state)\n",
    "\n",
    "# Ask again\n",
    "stream = new_agent_team.run_stream(task=\"What was the last animal fact you shared?\")\n",
    "await Console(stream)\n"
   ]
  },
  {
   "cell_type": "markdown",
   "metadata": {},
   "source": [
    "## Summary\n",
    "* Agents and teams can save their state to remember past interactions.\n",
    "* Resetting a team loses previous context unless the state is reloaded.\n",
    "* States can be saved to a file for long-term storage and later use.\n",
    "* This approach is useful in applications where maintaining history across different sessions is important."
   ]
  }
 ],
 "metadata": {
  "kernelspec": {
   "display_name": ".venv",
   "language": "python",
   "name": "python3"
  },
  "language_info": {
   "codemirror_mode": {
    "name": "ipython",
    "version": 3
   },
   "file_extension": ".py",
   "mimetype": "text/x-python",
   "name": "python",
   "nbconvert_exporter": "python",
   "pygments_lexer": "ipython3",
   "version": "3.12.4"
  }
 },
 "nbformat": 4,
 "nbformat_minor": 2
}
